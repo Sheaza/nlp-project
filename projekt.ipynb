{
  "nbformat": 4,
  "nbformat_minor": 0,
  "metadata": {
    "colab": {
      "provenance": [],
      "gpuType": "T4"
    },
    "kernelspec": {
      "name": "python3",
      "display_name": "Python 3"
    },
    "language_info": {
      "name": "python"
    },
    "accelerator": "GPU"
  },
  "cells": [
    {
      "cell_type": "code",
      "source": [
        "import pandas as pd\n",
        "import numpy as np\n",
        "import gensim\n",
        "from sklearn.linear_model import LogisticRegression\n",
        "from sklearn.model_selection import train_test_split\n",
        "from sklearn.metrics import accuracy_score, precision_score, recall_score, f1_score\n",
        "import tensorflow as tf\n",
        "from tensorflow.keras.preprocessing.sequence import pad_sequences\n",
        "from tensorflow.keras.preprocessing.text import Tokenizer\n",
        "from tensorflow.keras.models import Sequential\n",
        "from tensorflow.keras.layers import Embedding, SimpleRNN, Dense\n",
        "from tensorflow.keras.layers import LSTM, Input, Embedding, Dense\n",
        "from tensorflow.keras.models import Model\n",
        "from transformers import AutoTokenizer, TFAutoModelForSequenceClassification\n",
        "from tensorflow.keras.optimizers import Adam\n",
        "from matplotlib import pyplot as plt\n",
        "import seaborn as sns\n",
        "from datasets import DatasetDict, Dataset"
      ],
      "metadata": {
        "id": "4cmD4U6laVyK"
      },
      "execution_count": 27,
      "outputs": []
    },
    {
      "cell_type": "code",
      "source": [
        "def load_data(word2vec = True):\n",
        "  data = pd.read_csv(\"spam_ham_dataset.csv\")\n",
        "  data = data.drop([\"Unnamed: 0\"], axis=1)\n",
        "  if word2vec:\n",
        "    data['text_clean'] = data['text'].apply(lambda x: gensim.utils.simple_preprocess(x))\n",
        "    texts = data[\"text_clean\"]\n",
        "  else:\n",
        "    texts = data[\"text\"]\n",
        "  labels = data[\"label_num\"]\n",
        "  print(data.shape)\n",
        "  return data, texts, labels"
      ],
      "metadata": {
        "id": "YwWBSkr9eArj"
      },
      "execution_count": 28,
      "outputs": []
    },
    {
      "cell_type": "code",
      "source": [
        "data, texts, labels = load_data()"
      ],
      "metadata": {
        "colab": {
          "base_uri": "https://localhost:8080/"
        },
        "id": "xX6TSqIMeqKb",
        "outputId": "0200fbe2-c7f1-4085-8c72-71ed8102e0e9"
      },
      "execution_count": 30,
      "outputs": [
        {
          "output_type": "stream",
          "name": "stdout",
          "text": [
            "(5171, 4)\n"
          ]
        }
      ]
    },
    {
      "cell_type": "code",
      "source": [
        "data.groupby('label').size().plot(kind='barh', color=sns.palettes.mpl_palette('Dark2'))\n",
        "plt.gca().spines[['top', 'right',]].set_visible(False)"
      ],
      "metadata": {
        "colab": {
          "base_uri": "https://localhost:8080/",
          "height": 430
        },
        "id": "EotZKb4cec3t",
        "outputId": "a46c3360-c78f-4786-b0db-47ce868b9333"
      },
      "execution_count": 31,
      "outputs": [
        {
          "output_type": "display_data",
          "data": {
            "text/plain": [
              "<Figure size 640x480 with 1 Axes>"
            ],
            "image/png": "[encoded data removed]"
          },
          "metadata": {}
        }
      ]
    },
    {
      "cell_type": "markdown",
      "source": [
        "Word2Vec with Linear Regression"
      ],
      "metadata": {
        "id": "8tLYd97Tbjuj"
      }
    },
    {
      "cell_type": "code",
      "source": [
        "model = gensim.models.Word2Vec(sentences=texts, vector_size=100, window=5, min_count=1, workers=4)\n",
        "\n",
        "# Average word vectors for each document\n",
        "def document_vector(doc):\n",
        "    doc = [word for word in doc if word in model.wv.index_to_key]\n",
        "    return np.mean(model.wv[doc], axis=0)\n",
        "\n",
        "X = np.array([document_vector(doc) for doc in texts])\n",
        "y = np.array(labels)\n",
        "\n",
        "X_train, X_test, y_train, y_test = train_test_split(X, y, test_size=0.2, random_state=42)\n",
        "print(X_train.shape)\n",
        "print(X_test.shape)"
      ],
      "metadata": {
        "colab": {
          "base_uri": "https://localhost:8080/"
        },
        "id": "_b07UZfLNjrU",
        "outputId": "5eea9f58-4101-47a9-8fb3-eef91d2b9dba"
      },
      "execution_count": 34,
      "outputs": [
        {
          "output_type": "stream",
          "name": "stdout",
          "text": [
            "(4136, 100)\n",
            "(1035, 100)\n"
          ]
        }
      ]
    },
    {
      "cell_type": "code",
      "source": [
        "classifier = LogisticRegression()\n",
        "classifier.fit(X_train, y_train)"
      ],
      "metadata": {
        "colab": {
          "base_uri": "https://localhost:8080/",
          "height": 214
        },
        "id": "SlhqNFdZa9nd",
        "outputId": "5c0aee67-8b8a-4ca0-bdb7-5c55eee543df"
      },
      "execution_count": 35,
      "outputs": [
        {
          "output_type": "stream",
          "name": "stderr",
          "text": [
            "/usr/local/lib/python3.10/dist-packages/sklearn/linear_model/_logistic.py:458: ConvergenceWarning: lbfgs failed to converge (status=1):\n",
            "STOP: TOTAL NO. of ITERATIONS REACHED LIMIT.\n",
            "\n",
            "Increase the number of iterations (max_iter) or scale the data as shown in:\n",
            "    https://scikit-learn.org/stable/modules/preprocessing.html\n",
            "Please also refer to the documentation for alternative solver options:\n",
            "    https://scikit-learn.org/stable/modules/linear_model.html#logistic-regression\n",
            "  n_iter_i = _check_optimize_result(\n"
          ]
        },
        {
          "output_type": "execute_result",
          "data": {
            "text/plain": [
              "LogisticRegression()"
            ],
            "text/html": [
              "<style>#sk-container-id-1 {color: black;background-color: white;}#sk-container-id-1 pre{padding: 0;}#sk-container-id-1 div.sk-toggleable {background-color: white;}#sk-container-id-1 label.sk-toggleable__label {cursor: pointer;display: block;width: 100%;margin-bottom: 0;padding: 0.3em;box-sizing: border-box;text-align: center;}#sk-container-id-1 label.sk-toggleable__label-arrow:before {content: \"▸\";float: left;margin-right: 0.25em;color: #696969;}#sk-container-id-1 label.sk-toggleable__label-arrow:hover:before {color: black;}#sk-container-id-1 div.sk-estimator:hover label.sk-toggleable__label-arrow:before {color: black;}#sk-container-id-1 div.sk-toggleable__content {max-height: 0;max-width: 0;overflow: hidden;text-align: left;background-color: #f0f8ff;}#sk-container-id-1 div.sk-toggleable__content pre {margin: 0.2em;color: black;border-radius: 0.25em;background-color: #f0f8ff;}#sk-container-id-1 input.sk-toggleable__control:checked~div.sk-toggleable__content {max-height: 200px;max-width: 100%;overflow: auto;}#sk-container-id-1 input.sk-toggleable__control:checked~label.sk-toggleable__label-arrow:before {content: \"▾\";}#sk-container-id-1 div.sk-estimator input.sk-toggleable__control:checked~label.sk-toggleable__label {background-color: #d4ebff;}#sk-container-id-1 div.sk-label input.sk-toggleable__control:checked~label.sk-toggleable__label {background-color: #d4ebff;}#sk-container-id-1 input.sk-hidden--visually {border: 0;clip: rect(1px 1px 1px 1px);clip: rect(1px, 1px, 1px, 1px);height: 1px;margin: -1px;overflow: hidden;padding: 0;position: absolute;width: 1px;}#sk-container-id-1 div.sk-estimator {font-family: monospace;background-color: #f0f8ff;border: 1px dotted black;border-radius: 0.25em;box-sizing: border-box;margin-bottom: 0.5em;}#sk-container-id-1 div.sk-estimator:hover {background-color: #d4ebff;}#sk-container-id-1 div.sk-parallel-item::after {content: \"\";width: 100%;border-bottom: 1px solid gray;flex-grow: 1;}#sk-container-id-1 div.sk-label:hover label.sk-toggleable__label {background-color: #d4ebff;}#sk-container-id-1 div.sk-serial::before {content: \"\";position: absolute;border-left: 1px solid gray;box-sizing: border-box;top: 0;bottom: 0;left: 50%;z-index: 0;}#sk-container-id-1 div.sk-serial {display: flex;flex-direction: column;align-items: center;background-color: white;padding-right: 0.2em;padding-left: 0.2em;position: relative;}#sk-container-id-1 div.sk-item {position: relative;z-index: 1;}#sk-container-id-1 div.sk-parallel {display: flex;align-items: stretch;justify-content: center;background-color: white;position: relative;}#sk-container-id-1 div.sk-item::before, #sk-container-id-1 div.sk-parallel-item::before {content: \"\";position: absolute;border-left: 1px solid gray;box-sizing: border-box;top: 0;bottom: 0;left: 50%;z-index: -1;}#sk-container-id-1 div.sk-parallel-item {display: flex;flex-direction: column;z-index: 1;position: relative;background-color: white;}#sk-container-id-1 div.sk-parallel-item:first-child::after {align-self: flex-end;width: 50%;}#sk-container-id-1 div.sk-parallel-item:last-child::after {align-self: flex-start;width: 50%;}#sk-container-id-1 div.sk-parallel-item:only-child::after {width: 0;}#sk-container-id-1 div.sk-dashed-wrapped {border: 1px dashed gray;margin: 0 0.4em 0.5em 0.4em;box-sizing: border-box;padding-bottom: 0.4em;background-color: white;}#sk-container-id-1 div.sk-label label {font-family: monospace;font-weight: bold;display: inline-block;line-height: 1.2em;}#sk-container-id-1 div.sk-label-container {text-align: center;}#sk-container-id-1 div.sk-container {/* jupyter's `normalize.less` sets `[hidden] { display: none; }` but bootstrap.min.css set `[hidden] { display: none !important; }` so we also need the `!important` here to be able to override the default hidden behavior on the sphinx rendered scikit-learn.org. See: https://github.com/scikit-learn/scikit-learn/issues/21755 */display: inline-block !important;position: relative;}#sk-container-id-1 div.sk-text-repr-fallback {display: none;}</style><div id=\"sk-container-id-1\" class=\"sk-top-container\"><div class=\"sk-text-repr-fallback\"><pre>LogisticRegression()</pre><b>In a Jupyter environment, please rerun this cell to show the HTML representation or trust the notebook. <br />On GitHub, the HTML representation is unable to render, please try loading this page with nbviewer.org.</b></div><div class=\"sk-container\" hidden><div class=\"sk-item\"><div class=\"sk-estimator sk-toggleable\"><input class=\"sk-toggleable__control sk-hidden--visually\" id=\"sk-estimator-id-1\" type=\"checkbox\" checked><label for=\"sk-estimator-id-1\" class=\"sk-toggleable__label sk-toggleable__label-arrow\">LogisticRegression</label><div class=\"sk-toggleable__content\"><pre>LogisticRegression()</pre></div></div></div></div></div>"
            ]
          },
          "metadata": {},
          "execution_count": 35
        }
      ]
    },
    {
      "cell_type": "code",
      "source": [
        "predictions = classifier.predict(X_test)\n",
        "accuracy = accuracy_score(y_test, predictions)\n",
        "recall = recall_score(y_test, predictions)\n",
        "precision = precision_score(y_test, predictions)\n",
        "f1 = f1_score(y_test, predictions)\n",
        "print(f'Accuracy: {accuracy} \\n Precision: {precision} \\n Recall: {recall} \\n F1: {f1}')"
      ],
      "metadata": {
        "colab": {
          "base_uri": "https://localhost:8080/"
        },
        "id": "K83A8upvN0HX",
        "outputId": "bd218218-df0c-4150-e719-44b7ae4380c5"
      },
      "execution_count": 36,
      "outputs": [
        {
          "output_type": "stream",
          "name": "stdout",
          "text": [
            "Accuracy: 0.9642512077294686 \n",
            " Precision: 0.9238410596026491 \n",
            " Recall: 0.9522184300341296 \n",
            " F1: 0.9378151260504202\n"
          ]
        }
      ]
    },
    {
      "cell_type": "markdown",
      "source": [
        "RNN"
      ],
      "metadata": {
        "id": "DOroZqoCe3_f"
      }
    },
    {
      "cell_type": "code",
      "source": [
        "data, texts, labels = load_data(word2vec=False)"
      ],
      "metadata": {
        "colab": {
          "base_uri": "https://localhost:8080/"
        },
        "id": "ej5u8j_skqQ-",
        "outputId": "6f46c3ae-7967-4c00-91d5-63aa5a93a3db"
      },
      "execution_count": 37,
      "outputs": [
        {
          "output_type": "stream",
          "name": "stdout",
          "text": [
            "(5171, 3)\n"
          ]
        }
      ]
    },
    {
      "cell_type": "code",
      "source": [
        "tokenizer = Tokenizer()\n",
        "tokenizer.fit_on_texts(texts)\n",
        "sequences = tokenizer.texts_to_sequences(texts)\n",
        "word_index = tokenizer.word_index\n",
        "data = pad_sequences(sequences, maxlen=100)"
      ],
      "metadata": {
        "id": "d2_yA1x5Nn30"
      },
      "execution_count": 38,
      "outputs": []
    },
    {
      "cell_type": "code",
      "source": [
        "X_train, X_test, y_train, y_test = train_test_split(data, labels, test_size=0.2, random_state=42)"
      ],
      "metadata": {
        "id": "b1hlmGuiPy6h"
      },
      "execution_count": 50,
      "outputs": []
    },
    {
      "cell_type": "code",
      "source": [
        "model = Sequential()\n",
        "model.add(Embedding(input_dim=len(word_index) + 1, output_dim=128, input_length=100))\n",
        "model.add(SimpleRNN(128))\n",
        "model.add(Dense(1, activation='sigmoid'))\n",
        "\n",
        "model.compile(loss='binary_crossentropy', optimizer='adam', metrics=['accuracy'])\n",
        "model.fit(X_train, y_train, epochs=5, validation_data=(X_test, y_test))"
      ],
      "metadata": {
        "colab": {
          "base_uri": "https://localhost:8080/"
        },
        "id": "gZoukBcqc8TD",
        "outputId": "e7dec143-10a8-4725-c7ad-907c1fa55ebe"
      },
      "execution_count": 51,
      "outputs": [
        {
          "output_type": "stream",
          "name": "stdout",
          "text": [
            "Epoch 1/5\n",
            "130/130 [==============================] - 34s 239ms/step - loss: 0.4019 - accuracy: 0.8044 - val_loss: 0.1927 - val_accuracy: 0.9208\n",
            "Epoch 2/5\n",
            "130/130 [==============================] - 23s 181ms/step - loss: 0.0473 - accuracy: 0.9862 - val_loss: 0.0983 - val_accuracy: 0.9614\n",
            "Epoch 3/5\n",
            "130/130 [==============================] - 18s 135ms/step - loss: 0.0047 - accuracy: 0.9995 - val_loss: 0.0796 - val_accuracy: 0.9691\n",
            "Epoch 4/5\n",
            "130/130 [==============================] - 17s 134ms/step - loss: 0.0058 - accuracy: 0.9990 - val_loss: 0.1024 - val_accuracy: 0.9633\n",
            "Epoch 5/5\n",
            "130/130 [==============================] - 17s 126ms/step - loss: 0.0034 - accuracy: 0.9998 - val_loss: 0.0889 - val_accuracy: 0.9643\n"
          ]
        },
        {
          "output_type": "execute_result",
          "data": {
            "text/plain": [
              "<keras.src.callbacks.History at 0x7e6b5873b640>"
            ]
          },
          "metadata": {},
          "execution_count": 51
        }
      ]
    },
    {
      "cell_type": "code",
      "source": [
        "predictions = model.predict(X_test) > 0.5\n",
        "accuracy = accuracy_score(y_test, predictions)\n",
        "recall = recall_score(y_test, predictions)\n",
        "precision = precision_score(y_test, predictions)\n",
        "f1 = f1_score(y_test, predictions)\n",
        "print(f'Accuracy: {accuracy} \\n Precision: {precision} \\n Recall: {recall} \\n F1: {f1}')"
      ],
      "metadata": {
        "colab": {
          "base_uri": "https://localhost:8080/"
        },
        "id": "4Ys90iJtNv_6",
        "outputId": "d08393a0-4787-4211-f210-5d1906c65f74"
      },
      "execution_count": 52,
      "outputs": [
        {
          "output_type": "stream",
          "name": "stdout",
          "text": [
            "33/33 [==============================] - 0s 9ms/step\n",
            "Accuracy: 0.9642512077294686 \n",
            " Precision: 0.9324324324324325 \n",
            " Recall: 0.9419795221843004 \n",
            " F1: 0.937181663837012\n"
          ]
        }
      ]
    },
    {
      "cell_type": "markdown",
      "source": [
        "Seq2Seq - encoder decoder lstm"
      ],
      "metadata": {
        "id": "M20iF6v5fKaE"
      }
    },
    {
      "cell_type": "code",
      "source": [
        "encoder_inputs = Input(shape=(100,))\n",
        "x = Embedding(len(word_index) + 1, 128)(encoder_inputs)\n",
        "encoder = LSTM(128, return_state=True)\n",
        "encoder_outputs, state_h, state_c = encoder(x)\n",
        "encoder_states = [state_h, state_c]\n",
        "\n",
        "decoder_inputs = Input(shape=(100,))\n",
        "x = Embedding(len(word_index) + 1, 128)(decoder_inputs)\n",
        "decoder_lstm = LSTM(128, return_sequences=True, return_state=True)\n",
        "decoder_outputs, _, _ = decoder_lstm(x, initial_state=encoder_states)\n",
        "decoder_dense = Dense(1, activation='sigmoid')\n",
        "outputs = decoder_dense(decoder_outputs)\n",
        "\n",
        "model = Model([encoder_inputs, decoder_inputs], outputs)\n",
        "model.compile(optimizer='adam', loss='binary_crossentropy', metrics=['accuracy'])\n",
        "model.fit([X_train, X_train], y_train, epochs=5, validation_data=([X_test, X_test], y_test))"
      ],
      "metadata": {
        "colab": {
          "base_uri": "https://localhost:8080/"
        },
        "id": "xRjwVk9PfGMW",
        "outputId": "560ab547-0bae-4c92-9c4c-787a175c2f6e"
      },
      "execution_count": 54,
      "outputs": [
        {
          "output_type": "stream",
          "name": "stderr",
          "text": [
            "WARNING:tensorflow:Layer lstm_2 will not use cuDNN kernels since it doesn't meet the criteria. It will use a generic GPU kernel as fallback when running on GPU.\n",
            "WARNING:tensorflow:Layer lstm_3 will not use cuDNN kernels since it doesn't meet the criteria. It will use a generic GPU kernel as fallback when running on GPU.\n"
          ]
        },
        {
          "output_type": "stream",
          "name": "stdout",
          "text": [
            "Epoch 1/5\n",
            "130/130 [==============================] - 72s 495ms/step - loss: 0.3296 - accuracy: 0.8636 - val_loss: 0.3364 - val_accuracy: 0.8784\n",
            "Epoch 2/5\n",
            "130/130 [==============================] - 55s 424ms/step - loss: 0.1304 - accuracy: 0.9667 - val_loss: 0.1691 - val_accuracy: 0.9478\n",
            "Epoch 3/5\n",
            "130/130 [==============================] - 49s 378ms/step - loss: 0.0574 - accuracy: 0.9887 - val_loss: 0.1009 - val_accuracy: 0.9786\n",
            "Epoch 4/5\n",
            "130/130 [==============================] - 45s 347ms/step - loss: 0.0161 - accuracy: 0.9978 - val_loss: 0.1771 - val_accuracy: 0.9666\n",
            "Epoch 5/5\n",
            "130/130 [==============================] - 47s 358ms/step - loss: 0.0034 - accuracy: 0.9998 - val_loss: 0.2057 - val_accuracy: 0.9702\n"
          ]
        },
        {
          "output_type": "execute_result",
          "data": {
            "text/plain": [
              "<keras.src.callbacks.History at 0x7e6b58a72440>"
            ]
          },
          "metadata": {},
          "execution_count": 54
        }
      ]
    },
    {
      "cell_type": "code",
      "source": [
        "predictions = [np.max(x) for x in (model.predict([X_test, X_test]) > 0.5)]\n",
        "accuracy = accuracy_score(y_test, predictions)\n",
        "recall = recall_score(y_test, predictions)\n",
        "precision = precision_score(y_test, predictions)\n",
        "f1 = f1_score(y_test, predictions)\n",
        "print(f'Accuracy: {accuracy} \\n Precision: {precision} \\n Recall: {recall} \\n F1: {f1}')"
      ],
      "metadata": {
        "colab": {
          "base_uri": "https://localhost:8080/"
        },
        "id": "tWNd-CasN23-",
        "outputId": "b1334027-35bd-4211-a2ab-16c8de9317d0"
      },
      "execution_count": 64,
      "outputs": [
        {
          "output_type": "stream",
          "name": "stdout",
          "text": [
            "33/33 [==============================] - 2s 53ms/step\n",
            "Accuracy: 0.9729468599033816 \n",
            " Precision: 0.9715302491103203 \n",
            " Recall: 0.931740614334471 \n",
            " F1: 0.9512195121951219\n"
          ]
        }
      ]
    },
    {
      "cell_type": "code",
      "source": [],
      "metadata": {
        "id": "aWOjeI0pStMq"
      },
      "execution_count": null,
      "outputs": []
    }
  ]
}